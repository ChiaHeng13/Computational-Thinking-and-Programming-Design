{
  "nbformat": 4,
  "nbformat_minor": 0,
  "metadata": {
    "colab": {
      "name": "Week8_A105260034_魏嘉亨_成果檢核.ipynb",
      "provenance": [],
      "collapsed_sections": []
    },
    "kernelspec": {
      "name": "python3",
      "display_name": "Python 3"
    }
  },
  "cells": [
    {
      "cell_type": "code",
      "metadata": {
        "id": "2OXP1VKrdPDW",
        "colab_type": "code",
        "outputId": "1dd3c0cc-2758-4025-91ac-1c657089f9c9",
        "colab": {
          "base_uri": "https://localhost:8080/",
          "height": 84
        }
      },
      "source": [
        "#1存取串列中元素\n",
        "s = input(\"請輸入一行英文句子?\")\n",
        "words = s.split(' ')\n",
        "print(\"\", words)\n",
        "s2 = ' '.join(words)\n",
        "print(\"\", s2)\n",
        "s3 = s.title()\n",
        "print(\"\",s3)"
      ],
      "execution_count": 7,
      "outputs": [
        {
          "output_type": "stream",
          "text": [
            "請輸入一行英文句子?an apple a day keeps the doctor away\n",
            " ['an', 'apple', 'a', 'day', 'keeps', 'the', 'doctor', 'away']\n",
            " an apple a day keeps the doctor away\n",
            " An Apple A Day Keeps The Doctor Away\n"
          ],
          "name": "stdout"
        }
      ]
    },
    {
      "cell_type": "code",
      "metadata": {
        "id": "6chZVu54OjWo",
        "colab_type": "code",
        "colab": {
          "base_uri": "https://localhost:8080/",
          "height": 50
        },
        "outputId": "6f5ad50f-3a35-48f0-c177-40059a2a6ffe"
      },
      "source": [
        "s = input('請輸入一行英文句子?')\n",
        "s.strip(' .')\n",
        "words = s.split(' ')\n",
        "print(words[::-1])"
      ],
      "execution_count": 8,
      "outputs": [
        {
          "output_type": "stream",
          "text": [
            "請輸入一行英文句子?an apple a day keeps the doctor away\n",
            "['away', 'doctor', 'the', 'keeps', 'day', 'a', 'apple', 'an']\n"
          ],
          "name": "stdout"
        }
      ]
    },
    {
      "cell_type": "code",
      "metadata": {
        "id": "Nl7wfI8yS3SR",
        "colab_type": "code",
        "colab": {
          "base_uri": "https://localhost:8080/",
          "height": 67
        },
        "outputId": "9acbe658-79d0-4d7a-ef85-683bc018ed30"
      },
      "source": [
        "#2找出及格的人\n",
        "全班學生 = set(['John', 'Mary', 'Tina', 'Fiona', 'Claire', 'Eva', 'Ben', 'Bill', 'Bert'\n",
        "])\n",
        "英文及格 = set(['John', 'Mary', 'Fiona', 'Claire', 'Ben', 'Bill'])\n",
        "數學及格 = set(['Mary', 'Fiona', 'Claire', 'Eva', 'Ben'])\n",
        "print('英文與數學都及格', 英文及格&數學及格)\n",
        "print('數學不及格', 全班學生-數學及格)\n",
        "print('英文及格與數學不及格', 英文及格&(全班學生-數學及格))"
      ],
      "execution_count": 9,
      "outputs": [
        {
          "output_type": "stream",
          "text": [
            "英文與數學都及格 {'Claire', 'Ben', 'Mary', 'Fiona'}\n",
            "數學不及格 {'Bill', 'Tina', 'John', 'Bert'}\n",
            "英文及格與數學不及格 {'Bill', 'John'}\n"
          ],
          "name": "stdout"
        }
      ]
    },
    {
      "cell_type": "code",
      "metadata": {
        "id": "Ac4FIXaxTJfy",
        "colab_type": "code",
        "colab": {
          "base_uri": "https://localhost:8080/",
          "height": 34
        },
        "outputId": "5af3f4ee-734f-42c4-f497-f5b88b810a52"
      },
      "source": [
        "#3找出兩首詩共同的字\n",
        "p1 = '紅豆生南國,春來發幾枝?願君多采擷,此物最相思。'\n",
        "p2 = '春眠不覺曉,處處聞啼鳥。夜來風雨聲,花落知多少。'\n",
        "s1 = set(p1)\n",
        "s1.remove(',')\n",
        "s1.remove('。')\n",
        "s1.remove('?')\n",
        "s2 = set(p2)\n",
        "s2.remove(',')\n",
        "s2.remove('。')\n",
        "print(s1&s2)"
      ],
      "execution_count": 10,
      "outputs": [
        {
          "output_type": "stream",
          "text": [
            "{'多', '春', '來'}\n"
          ],
          "name": "stdout"
        }
      ]
    },
    {
      "cell_type": "code",
      "metadata": {
        "id": "XvttLMeyTSqv",
        "colab_type": "code",
        "colab": {
          "base_uri": "https://localhost:8080/",
          "height": 151
        },
        "outputId": "79c08bc5-ee7d-4a9e-eb13-7fb6449f4e9e"
      },
      "source": [
        "#4製作電子郵件通訊錄\n",
        "mail = dict()\n",
        "name = input('請輸入姓名?')\n",
        "email = input('請輸入電子郵件?')\n",
        "mail[name]=email\n",
        "name = input('請輸入姓名?')\n",
        "email = input('請輸入電子郵件?')\n",
        "mail[name]=email\n",
        "name = input('請輸入姓名?')\n",
        "email = input('請輸入電子郵件?')\n",
        "mail[name]=email\n",
        "name = input('請輸入要查詢電子郵件的姓名?')\n",
        "print(mail[name])"
      ],
      "execution_count": 12,
      "outputs": [
        {
          "output_type": "stream",
          "text": [
            "請輸入姓名?John\n",
            "請輸入電子郵件?john@xxx.tw\n",
            "請輸入姓名?Claire\n",
            "請輸入電子郵件?claire@xxx.tw\n",
            "請輸入姓名?Fiona\n",
            "請輸入電子郵件?fiona@xxx.tw\n",
            "請輸入要查詢電子郵件的姓名?Claire\n",
            "claire@xxx.tw\n"
          ],
          "name": "stdout"
        }
      ]
    },
    {
      "cell_type": "code",
      "metadata": {
        "id": "Gwv8UGlZTYmD",
        "colab_type": "code",
        "colab": {}
      },
      "source": [
        ""
      ],
      "execution_count": 0,
      "outputs": []
    }
  ]
}